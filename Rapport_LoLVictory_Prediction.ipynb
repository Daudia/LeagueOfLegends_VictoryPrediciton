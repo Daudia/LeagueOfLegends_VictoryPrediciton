{
  "nbformat": 4,
  "nbformat_minor": 0,
  "metadata": {
    "colab": {
      "provenance": [],
      "authorship_tag": "ABX9TyOT0o3xFzRkJ1Ivk6YKr50i",
      "include_colab_link": true
    },
    "kernelspec": {
      "name": "python3",
      "display_name": "Python 3"
    },
    "language_info": {
      "name": "python"
    }
  },
  "cells": [
    {
      "cell_type": "markdown",
      "metadata": {
        "id": "view-in-github",
        "colab_type": "text"
      },
      "source": [
        "<a href=\"https://colab.research.google.com/github/Daudia/LeagueOfLegends_VictoryPrediction/blob/main/Rapport_LoLVictory_Prediction.ipynb\" target=\"_parent\"><img src=\"https://colab.research.google.com/assets/colab-badge.svg\" alt=\"Open In Colab\"/></a>"
      ]
    },
    {
      "cell_type": "markdown",
      "source": [
        "### RAPPORT DU PROJET DE MACHINE LEARNING\n"
      ],
      "metadata": {
        "id": "tMcZa9Qx3APw"
      }
    }
  ]
}